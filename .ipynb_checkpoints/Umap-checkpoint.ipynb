{
 "cells": [
  {
   "cell_type": "code",
   "execution_count": 1,
   "id": "9ca1f06d",
   "metadata": {},
   "outputs": [],
   "source": [
    "import argparse\n",
    "\n",
    "import matplotlib.pyplot as plt\n",
    "import seaborn as sns\n",
    "import torch\n",
    "from torch.utils.data import Dataset, DataLoader\n",
    "\n",
    "import preprocess as p\n",
    "from main import load_mnist"
   ]
  },
  {
   "cell_type": "code",
   "execution_count": 2,
   "id": "bff36ba2",
   "metadata": {},
   "outputs": [
    {
     "name": "stdout",
     "output_type": "stream",
     "text": [
      "Namespace(min_freq=0.5, max_freq=5, random_phase=1, FPS=30, LENGTH_SEC=5, batch_size=4, n_epochs=10, NUM_SELF_CON_SIMPER=10, MAX_SPEED=3, SSL_FRAMES=50, IMG_SIZE=28, CHANNELS=1, lr=0.001, DEBUG=0, label_dist_fn='l1', feat_dist_fn='max_corr', label_temperature=0.1)\n"
     ]
    }
   ],
   "source": [
    "FPS = 30\n",
    "LENGTH_SEC = 5\n",
    "NUM_FRAMES = FPS * LENGTH_SEC\n",
    "MAX_SPEED = 3\n",
    "IMG_SIZE = 28\n",
    "CHANNELS = 1\n",
    "\n",
    "parser = argparse.ArgumentParser()\n",
    "parser.add_argument(\"--min_freq\", type=float, default=0.5, help=\"minimum frequency\")\n",
    "parser.add_argument(\"--max_freq\", type=float, default=5, help=\"minimum frequency\")\n",
    "parser.add_argument(\"--random_phase\", type=int, default=1, help=\"1: apply random phase, 0: default\")\n",
    "parser.add_argument(\"--FPS\", type=int, default=FPS)\n",
    "parser.add_argument(\"--LENGTH_SEC\", type=int, default=LENGTH_SEC)\n",
    "# parser.add_argument(\"--batch_size\", type=int, default=150, help=\"size of mini-batches\")\n",
    "parser.add_argument(\"--batch_size\", type=int, default=4, help=\"size of mini-batches\")\n",
    "parser.add_argument(\"--n_epochs\", type=int, default=10, help=\"epochs\")\n",
    "parser.add_argument(\"--NUM_SELF_CON_SIMPER\", type=int, default=10)\n",
    "parser.add_argument(\"--MAX_SPEED\", type=int, default=MAX_SPEED)\n",
    "parser.add_argument(\"--SSL_FRAMES\", type=int, default=NUM_FRAMES // MAX_SPEED)\n",
    "parser.add_argument(\"--IMG_SIZE\", type=int, default=IMG_SIZE)\n",
    "parser.add_argument(\"--CHANNELS\", type=int, default=CHANNELS)\n",
    "parser.add_argument(\"--lr\", type=float, default=1e-3, help=\"Learning Rate\")\n",
    "parser.add_argument(\"--DEBUG\", type=int, default=0)\n",
    "#\n",
    "#\n",
    "parser.add_argument(\"--label_dist_fn\", type=str, default='l1')\n",
    "parser.add_argument(\"--feat_dist_fn\", type=str, default='max_corr')\n",
    "parser.add_argument(\"--label_temperature\", type=float, default=0.1)\n",
    "\n",
    "opt = parser.parse_args([])\n",
    "print(opt)\n"
   ]
  },
  {
   "cell_type": "code",
   "execution_count": 3,
   "id": "d8211827",
   "metadata": {},
   "outputs": [
    {
     "name": "stderr",
     "output_type": "stream",
     "text": [
      "C:\\Users\\resor\\anaconda3\\envs\\test\\lib\\site-packages\\torchvision\\datasets\\mnist.py:75: UserWarning: train_data has been renamed data\n",
      "  warnings.warn(\"train_data has been renamed data\")\n",
      "C:\\Users\\resor\\anaconda3\\envs\\test\\lib\\site-packages\\torchvision\\datasets\\mnist.py:65: UserWarning: train_labels has been renamed targets\n",
      "  warnings.warn(\"train_labels has been renamed targets\")\n"
     ]
    }
   ],
   "source": [
    "train_data, train_label, train_freq = load_mnist(opt, train_dype='train')\n"
   ]
  },
  {
   "cell_type": "code",
   "execution_count": 4,
   "id": "105db87d",
   "metadata": {},
   "outputs": [
    {
     "data": {
      "text/plain": [
       "torch.Size([1000, 28, 28])"
      ]
     },
     "execution_count": 4,
     "metadata": {},
     "output_type": "execute_result"
    }
   ],
   "source": [
    "train_data.shape"
   ]
  },
  {
   "cell_type": "code",
   "execution_count": 4,
   "id": "24bff62d",
   "metadata": {},
   "outputs": [
    {
     "name": "stdout",
     "output_type": "stream",
     "text": [
      "debug_mode: True\n"
     ]
    }
   ],
   "source": [
    "dataset = p.CustomDataset(train_data, train_label, train_freq, opt, need_preprocess=True, need_transform=True, debug=True)\n",
    "data_loader = DataLoader(dataset=dataset, batch_size=opt.batch_size)"
   ]
  },
  {
   "cell_type": "code",
   "execution_count": 5,
   "id": "f5341f1f",
   "metadata": {},
   "outputs": [
    {
     "name": "stderr",
     "output_type": "stream",
     "text": [
      "F:\\omscs\\CSE6250_BigData_for_Health_Informatics\\homeworks\\bdah_simper\\preprocess.py:42: UserWarning: Creating a tensor from a list of numpy.ndarrays is extremely slow. Please consider converting the list to a single numpy.ndarray with numpy.array() before converting to a tensor. (Triggered internally at C:\\actions-runner\\_work\\pytorch\\pytorch\\builder\\windows\\pytorch\\torch\\csrc\\utils\\tensor_new.cpp:248.)\n",
      "  new_x_tensor = torch.FloatTensor(new_x).squeeze()\n"
     ]
    }
   ],
   "source": [
    "data_iter = iter(data_loader)\n",
    "frames, all_speed, y_angle = next(data_iter)\n"
   ]
  },
  {
   "cell_type": "code",
   "execution_count": 6,
   "id": "2d09c176",
   "metadata": {},
   "outputs": [
    {
     "data": {
      "text/plain": [
       "torch.Size([4, 20, 50, 28, 28])"
      ]
     },
     "execution_count": 6,
     "metadata": {},
     "output_type": "execute_result"
    }
   ],
   "source": [
    "frames.size()"
   ]
  },
  {
   "cell_type": "code",
   "execution_count": null,
   "id": "a0134302",
   "metadata": {},
   "outputs": [],
   "source": [
    "idx = 0\n",
    "fig = plt.figure(figsize=(4, 4))\n",
    "fig = sns.heatmap(frames[0, 0, 0, :, :].numpy())\n",
    "plt.show()"
   ]
  },
  {
   "cell_type": "code",
   "execution_count": null,
   "id": "afa339c4",
   "metadata": {},
   "outputs": [],
   "source": [
    "idx = 0\n",
    "fig = plt.figure(figsize=(4, 4))\n",
    "fig = sns.heatmap(frames[0, idx, :, :])\n",
    "plt.show()"
   ]
  },
  {
   "cell_type": "code",
   "execution_count": null,
   "id": "756355b4",
   "metadata": {},
   "outputs": [],
   "source": [
    "for i in range(8):\n",
    "    fig = plt.figure(figsize=(4, 4))\n",
    "    fig = sns.heatmap(frames[0, 0, i, :, :])\n",
    "    plt.show()"
   ]
  },
  {
   "cell_type": "code",
   "execution_count": null,
   "id": "f52b2192",
   "metadata": {},
   "outputs": [],
   "source": [
    "rotation_digits = frames[0].view(150, -1).numpy()"
   ]
  },
  {
   "cell_type": "code",
   "execution_count": null,
   "id": "9e995bdb",
   "metadata": {},
   "outputs": [],
   "source": [
    "embedding = umap.UMAP(n_neighbors=5, min_dist=0.3, metric='correlation').fit_transform(rotation_digits)"
   ]
  },
  {
   "cell_type": "code",
   "execution_count": null,
   "id": "a329832e",
   "metadata": {},
   "outputs": [],
   "source": [
    "plt.figure(figsize=(6, 6))\n",
    "# plt.scatter(embedding[:, 0], embedding[:, 1], c=, cmap='Spectral', s=5)\n",
    "plt.scatter(embedding[:, 0], embedding[:, 1], s=5)\n",
    "# plt.gca().set_aspect('equal', 'datalim')\n"
   ]
  },
  {
   "cell_type": "code",
   "execution_count": null,
   "id": "abd9c64a",
   "metadata": {},
   "outputs": [],
   "source": [
    "import umap\n",
    "import matplotlib.pyplot as plt\n",
    "from sklearn.datasets import load_digits\n",
    "import numpy as np\n",
    "\n",
    "# データをロード\n",
    "digits = load_digits()\n",
    "data = digits.data\n",
    "labels = digits.target\n",
    "\n",
    "# UMAPで次元削減\n",
    "embedding = umap.UMAP(n_neighbors=5, min_dist=0.3, metric='correlation').fit_transform(data)\n",
    "\n",
    "# プロット\n",
    "plt.figure(figsize=(6, 6))\n",
    "plt.scatter(embedding[:, 0], embedding[:, 1], c=labels, cmap='Spectral', s=5)\n",
    "plt.gca().set_aspect('equal', 'datalim')\n",
    "plt.colorbar(boundaries=np.arange(11)-0.5).set_ticks(np.arange(10))\n",
    "plt.title('UMAP projection of the Digits dataset', fontsize=24)\n",
    "plt.show()\n"
   ]
  },
  {
   "cell_type": "code",
   "execution_count": null,
   "id": "4bbd8e10",
   "metadata": {},
   "outputs": [],
   "source": []
  },
  {
   "cell_type": "code",
   "execution_count": null,
   "id": "bba97ca9",
   "metadata": {},
   "outputs": [],
   "source": []
  }
 ],
 "metadata": {
  "kernelspec": {
   "display_name": "Python 3 (ipykernel)",
   "language": "python",
   "name": "python3"
  },
  "language_info": {
   "codemirror_mode": {
    "name": "ipython",
    "version": 3
   },
   "file_extension": ".py",
   "mimetype": "text/x-python",
   "name": "python",
   "nbconvert_exporter": "python",
   "pygments_lexer": "ipython3",
   "version": "3.9.16"
  }
 },
 "nbformat": 4,
 "nbformat_minor": 5
}
